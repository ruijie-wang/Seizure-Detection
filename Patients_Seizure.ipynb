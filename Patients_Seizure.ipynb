{
 "cells": [
  {
   "cell_type": "markdown",
   "id": "ca2a4189",
   "metadata": {},
   "source": [
    "# Import functions"
   ]
  },
  {
   "cell_type": "code",
   "execution_count": 1,
   "id": "1b5eb4a5",
   "metadata": {},
   "outputs": [],
   "source": [
    "import Functions  # Import all custom functions\n",
    "\n",
    "import numpy as np\n",
    "import random\n",
    "import statistics\n",
    "import pyedflib\n",
    "import math\n",
    "\n",
    "\n",
    "from sklearn.decomposition import PCA\n",
    "from sklearn.preprocessing import StandardScaler\n",
    "\n",
    "\n",
    "\n",
    "from IPython.display import display, Markdown  #display(Markdown(\"# Hello World!\"))\n"
   ]
  },
  {
   "cell_type": "markdown",
   "id": "f44da29a",
   "metadata": {},
   "source": [
    "\n",
    "* File Name: chb01_03.edf <br>\n",
    "Seizure Start Time: 2996 seconds\n",
    "\n",
    "\n",
    "* File Name: chb01_04.edf <br>\n",
    "Seizure Start Time: 1467 seconds\n",
    "\n",
    "\n",
    "* File Name: chb01_15.edf <br>\n",
    "Seizure Start Time: 1732 seconds\n",
    "\n",
    "\n",
    "* File Name: chb01_16.edf <br>\n",
    "Seizure Start Time: 1015 seconds\n",
    "\n",
    "\n",
    "* File Name: chb01_18.edf <br>\n",
    "Seizure Start Time: 1720 seconds\n",
    "\n",
    "\n",
    "* File Name: chb01_21.edf <br>\n",
    "Seizure Start Time: 327 seconds\n",
    "\n",
    "\n",
    "* File Name: chb01_26.edf <br>\n",
    "Seizure Start Time: 1862 seconds"
   ]
  },
  {
   "cell_type": "code",
   "execution_count": 2,
   "id": "44d66611",
   "metadata": {},
   "outputs": [],
   "source": [
    "seizure_file_list = [ 'chb01_03.edf','chb01_04.edf', 'chb01_15.edf','chb01_16.edf',\n",
    "                     'chb01_18.edf','chb01_21.edf', 'chb01_26.edf']\n",
    "seizure_start_list = [2996, 1467, 1732, 1015, 1720, 327, 1862]\n",
    "\n",
    "sample_rate = 256"
   ]
  },
  {
   "cell_type": "markdown",
   "id": "8431bce8",
   "metadata": {},
   "source": [
    "## Read data and intercept 40 minutes"
   ]
  },
  {
   "cell_type": "code",
   "execution_count": 3,
   "id": "0ba9ca3c",
   "metadata": {},
   "outputs": [],
   "source": [
    "temp = Functions.readedf('./Patient01/'+seizure_file_list[0])\n",
    "if (seizure_start_list[0]<40*60):\n",
    "    temp_preict = temp[:,0:seizure_start_list[0]*sample_rate]\n",
    "if (seizure_start_list[0]>= 40*60):\n",
    "    temp_preict = temp[:,(seizure_start_list[0]-40*60)*sample_rate\\\n",
    "                       : seizure_start_list[0]*sample_rate]"
   ]
  },
  {
   "cell_type": "code",
   "execution_count": 6,
   "id": "8bcae1c9",
   "metadata": {},
   "outputs": [
    {
     "name": "stdout",
     "output_type": "stream",
     "text": [
      "Successful read file chb01_03.edf\n",
      "successful store: chb01_03.npy\n",
      "Successful read file chb01_04.edf\n",
      "successful store: chb01_04.npy\n",
      "Successful read file chb01_15.edf\n",
      "successful store: chb01_15.npy\n",
      "Successful read file chb01_16.edf\n",
      "successful store: chb01_16.npy\n",
      "Successful read file chb01_18.edf\n",
      "successful store: chb01_18.npy\n",
      "Successful read file chb01_21.edf\n",
      "successful store: chb01_21.npy\n",
      "Successful read file chb01_26.edf\n",
      "successful store: chb01_26.npy\n"
     ]
    }
   ],
   "source": [
    "for i in range(len(seizure_file_list)):\n",
    "    temp = Functions.readedf('./Patient01/'+seizure_file_list[i])\n",
    "    print('Successful read file', seizure_file_list[i])\n",
    "    if (seizure_start_list[i]<40*60):                    # Read seiuzre signal\n",
    "        temp_preictal = temp[:,0:seizure_start_list[i]*sample_rate]\n",
    "    if (seizure_start_list[i]>=40*60):\n",
    "        temp_preictal = temp[:,(seizure_start_list[i]-40*60)*sample_rate\\\n",
    "                             :seizure_start_list[i]*sample_rate]\n",
    "    \n",
    "    temp_preictal_window = Functions.channel_slide_windows(temp_preictal,\n",
    "                                                           window_size=64*sample_rate,\n",
    "                                                           window_step=32*sample_rate)\n",
    "    \n",
    "    temp_window_features = np.zeros((np.size(temp_preictal_window,axis=0),   # Initiate window features\n",
    "                                     np.size(temp_preictal_window,axis=1),\n",
    "                                     8))\n",
    "    \n",
    "    for j in range(np.size(temp_preictal_window,axis=0)):                 # Calculate each window's features\n",
    "        for k in range(np.size(temp_preictal_window, axis=1)):\n",
    "           temp_window_features[j,k,:] = Functions.get_features(temp_preictal_window[j,k,:])\n",
    "        \n",
    "    temp_window_features_t = np.transpose(temp_window_features,[1,0,2])   # transpose matrix\n",
    "    temp_window_features_t_f = temp_window_features_t.reshape(np.size(temp_window_features_t,axis=0), # reshape matrix (# sample, # features)\n",
    "                                                              np.size(temp_window_features_t,axis=1)*\\\n",
    "                                                              np.size(temp_window_features_t,axis=2))\n",
    "    \n",
    "#     if (min(temp_window_features_t_f.shape) >=64):\n",
    "#         n_components = 64\n",
    "#     if (min(temp_window_features_t_f.shape) <64):\n",
    "#         n_components = min(temp_window_features_t_f.shape)\n",
    "    \n",
    "#     pca = PCA(n_components=n_components)\n",
    "#     temp_window_features_t_f_pca = pca.fit_transform(temp_window_features_t_f)\n",
    "#     temp_window_features_t_f_pca_norm = Functions.norm_per_sample(temp_window_features_t_f_pca)\n",
    "    \n",
    "    np.save(seizure_file_list[i].removesuffix('.edf')+'.npy', temp_window_features_t_f)\n",
    "    print('successful store:', seizure_file_list[i].removesuffix('.edf')+'.npy')"
   ]
  },
  {
   "cell_type": "markdown",
   "id": "5b2ec36c",
   "metadata": {},
   "source": [
    "### Read files and concat"
   ]
  },
  {
   "cell_type": "code",
   "execution_count": 53,
   "id": "10e2ee6e",
   "metadata": {},
   "outputs": [],
   "source": [
    "array = []\n",
    "for file_path in seizure_file_list:\n",
    "    loaded_array = np.load('Patient01_Siz/'+file_path.removesuffix('.edf')+'.npy')\n",
    "#     print('Patient01_Siz/'+file_path.removesuffix('.edf')+'.npy')\n",
    "#     print(loaded_array.shape)\n",
    "    array.append(loaded_array)\n",
    "    \n",
    "result_array = np.concatenate(array, axis=0)"
   ]
  },
  {
   "cell_type": "markdown",
   "id": "783f77b2",
   "metadata": {},
   "source": [
    "### PCA"
   ]
  },
  {
   "cell_type": "code",
   "execution_count": 56,
   "id": "26abfbd1",
   "metadata": {},
   "outputs": [
    {
     "name": "stdout",
     "output_type": "stream",
     "text": [
      "successful store: Patient01_siz_input.npy\n"
     ]
    }
   ],
   "source": [
    "n_components = 64\n",
    "pca = PCA(n_components=n_components)\n",
    "temp_window_features_t_f_pca = pca.fit_transform(result_array)\n",
    "temp_window_features_t_f_pca_norm = Functions.norm_per_sample(temp_window_features_t_f_pca)\n",
    "\n",
    "np.save('Patient01_siz_input.npy', temp_window_features_t_f_pca_norm)\n",
    "print('successful store:', 'Patient01_siz_input.npy')"
   ]
  },
  {
   "cell_type": "code",
   "execution_count": 3,
   "id": "4f57d841",
   "metadata": {},
   "outputs": [],
   "source": [
    "Functions.concatenate_npy_files(folder_path='Patient01_Int', output_file='Patient01_int_input.npy')"
   ]
  },
  {
   "cell_type": "markdown",
   "id": "9351c5ce",
   "metadata": {},
   "source": [
    "# Show images"
   ]
  },
  {
   "cell_type": "code",
   "execution_count": 10,
   "id": "69aa92ba",
   "metadata": {},
   "outputs": [
    {
     "data": {
      "text/plain": [
       "(3850, 64)"
      ]
     },
     "execution_count": 10,
     "metadata": {},
     "output_type": "execute_result"
    }
   ],
   "source": [
    "np.load('Patient01_siz_input.npy').shape\n",
    "np.load('Patient01_int_input.npy').shape"
   ]
  },
  {
   "cell_type": "code",
   "execution_count": 56,
   "id": "320440d0",
   "metadata": {
    "scrolled": true
   },
   "outputs": [
    {
     "name": "stdout",
     "output_type": "stream",
     "text": [
      "siz: 148\n",
      "int: 2502\n"
     ]
    },
    {
     "data": {
      "text/plain": [
       "[<matplotlib.lines.Line2D at 0x23f208bd5d0>]"
      ]
     },
     "execution_count": 56,
     "metadata": {},
     "output_type": "execute_result"
    },
    {
     "data": {
      "image/png": "[encoded data removed]",
      "text/plain": [
       "<Figure size 640x480 with 2 Axes>"
      ]
     },
     "metadata": {},
     "output_type": "display_data"
    }
   ],
   "source": [
    "plt.figure()\n",
    "plt.subplot(2,1,1)\n",
    "index = random.randint(0,312)\n",
    "print('siz:', index)\n",
    "plt.plot(np.load('Patient01_siz_input.npy')[index,:])\n",
    "plt.subplot(2,1,2)\n",
    "index = random.randint(0,3850)\n",
    "print('int:', index)\n",
    "plt.plot(np.load('Patient01_int_input.npy')[index,:])"
   ]
  },
  {
   "cell_type": "markdown",
   "id": "b1050ff1",
   "metadata": {},
   "source": [
    "----"
   ]
  },
  {
   "cell_type": "markdown",
   "id": "15f702da",
   "metadata": {},
   "source": [
    "## Patient 07"
   ]
  },
  {
   "cell_type": "markdown",
   "id": "1d1c8b8d",
   "metadata": {},
   "source": [
    "\n",
    "* File Name: chb07_12.edf <br>\n",
    "Seizure 1 Start Time: 4920 seconds\n",
    "\n",
    "\n",
    "* File Name: chb07_13.edf <br>\n",
    "Seizure 1 Start Time: 3285 seconds\n",
    "\n",
    "\n",
    "* File Name: chb07_19.edf <br>\n",
    "Seizure 1 Start Time: 13688 seconds"
   ]
  },
  {
   "cell_type": "code",
   "execution_count": 3,
   "id": "0fd27339",
   "metadata": {},
   "outputs": [],
   "source": [
    "seizure_file_list = [ 'chb07_12.edf','chb07_13.edf', 'chb07_19.edf']\n",
    "seizure_start_list = [4920, 3285, 13688]\n",
    "\n",
    "sample_rate = 256"
   ]
  },
  {
   "cell_type": "markdown",
   "id": "2cb4ac12",
   "metadata": {},
   "source": [
    "_____"
   ]
  },
  {
   "cell_type": "markdown",
   "id": "6747d4c9",
   "metadata": {},
   "source": [
    "## Patient 02"
   ]
  },
  {
   "cell_type": "markdown",
   "id": "4c876b68",
   "metadata": {},
   "source": [
    "* File Name: chb02_16.edf <br>\n",
    "Seizure 1 Start Time: 130 seconds\n",
    "\n",
    "\n",
    "* File Name: chb02_16+.edf <br>\n",
    "Seizure 1 Start Time: 2972 seconds\n",
    "\n",
    "\n",
    "* File Name: chb02_19.edf <br>\n",
    "Seizure 1 Start Time: 3369 seconds"
   ]
  },
  {
   "cell_type": "code",
   "execution_count": 2,
   "id": "dc200a63",
   "metadata": {},
   "outputs": [],
   "source": [
    "seizure_file_list = [ 'chb02_16.edf','chb02_16+.edf', 'chb02_19.edf']\n",
    "seizure_start_list = [130, 2972, 3369]\n",
    "\n",
    "sample_rate = 256"
   ]
  },
  {
   "cell_type": "markdown",
   "id": "5b0b9014",
   "metadata": {},
   "source": [
    "## Read data and intercept 40 minutes"
   ]
  },
  {
   "cell_type": "code",
   "execution_count": 25,
   "id": "d3d14850",
   "metadata": {
    "code_folding": []
   },
   "outputs": [
    {
     "data": {
      "text/plain": [
       "(23, 308736)"
      ]
     },
     "execution_count": 25,
     "metadata": {},
     "output_type": "execute_result"
    }
   ],
   "source": [
    "# temp = Functions.readedf('./Patient07/'+seizure_file_list[0])\n",
    "# if (seizure_start_list[0]<40*60):\n",
    "#     temp_preict = temp[:,0:seizure_start_list[0]*sample_rate]\n",
    "# if (seizure_start_list[0]>= 40*60):\n",
    "#     temp_preict = temp[:,(seizure_start_list[0]-40*60)*sample_rate\\\n",
    "#                        : seizure_start_list[0]*sample_rate]\n",
    "\n",
    "# temp_preict.shape"
   ]
  },
  {
   "cell_type": "code",
   "execution_count": 3,
   "id": "767bdec0",
   "metadata": {
    "scrolled": true
   },
   "outputs": [
    {
     "name": "stdout",
     "output_type": "stream",
     "text": [
      "Successful read file chb02_16.edf\n",
      "successful store: chb02_16.npy\n",
      "Successful read file chb02_16+.edf\n",
      "successful store: chb02_16+.npy\n",
      "Successful read file chb02_19.edf\n",
      "successful store: chb02_19.npy\n"
     ]
    }
   ],
   "source": [
    "for i in range(len(seizure_file_list)):\n",
    "    temp = Functions.readedf('./Patient02/'+seizure_file_list[i])\n",
    "    print('Successful read file', seizure_file_list[i])\n",
    "    if (seizure_start_list[i]<40*60):                    # Read seiuzre signal\n",
    "        temp_preictal = temp[:,0:seizure_start_list[i]*sample_rate]\n",
    "    if (seizure_start_list[i]>=40*60):\n",
    "        temp_preictal = temp[:,(seizure_start_list[i]-40*60)*sample_rate\\\n",
    "                             :seizure_start_list[i]*sample_rate]\n",
    "    \n",
    "    \n",
    "    temp_preictal_window = Functions.channel_slide_windows(temp_preictal,\n",
    "                                                           window_size=64*sample_rate,\n",
    "                                                           window_step=32*sample_rate)\n",
    "    \n",
    "    temp_window_features = np.zeros((np.size(temp_preictal_window,axis=0),   # Initiate window features\n",
    "                                     np.size(temp_preictal_window,axis=1),\n",
    "                                     8))\n",
    "    \n",
    "    for j in range(np.size(temp_preictal_window,axis=0)):                 # Calculate each window's features\n",
    "        for k in range(np.size(temp_preictal_window, axis=1)):\n",
    "           temp_window_features[j,k,:] = Functions.get_features(temp_preictal_window[j,k,:])\n",
    "        \n",
    "    temp_window_features_t = np.transpose(temp_window_features,[1,0,2])   # transpose matrix\n",
    "    temp_window_features_t_f = temp_window_features_t.reshape(np.size(temp_window_features_t,axis=0), # reshape matrix (# sample, # features)\n",
    "                                                              np.size(temp_window_features_t,axis=1)*\\\n",
    "                                                              np.size(temp_window_features_t,axis=2))\n",
    "    \n",
    "#     if (min(temp_window_features_t_f.shape) >=64):\n",
    "#         n_components = 64\n",
    "#     if (min(temp_window_features_t_f.shape) <64):\n",
    "#         n_components = min(temp_window_features_t_f.shape)\n",
    "    \n",
    "#     pca = PCA(n_components=n_components)\n",
    "#     temp_window_features_t_f_pca = pca.fit_transform(temp_window_features_t_f)\n",
    "#     temp_window_features_t_f_pca_norm = Functions.norm_per_sample(temp_window_features_t_f_pca)\n",
    "    \n",
    "    np.save(seizure_file_list[i].removesuffix('.edf')+'.npy', temp_window_features_t_f)\n",
    "    print('successful store:', seizure_file_list[i].removesuffix('.edf')+'.npy')"
   ]
  },
  {
   "cell_type": "markdown",
   "id": "23e7fe74",
   "metadata": {},
   "source": [
    "### Read files and concat"
   ]
  },
  {
   "cell_type": "code",
   "execution_count": 6,
   "id": "d6952e03",
   "metadata": {},
   "outputs": [],
   "source": [
    "array = []\n",
    "for file_path in seizure_file_list:\n",
    "    loaded_array = np.load('Patient02_Siz/'+file_path.removesuffix('.edf')+'.npy')\n",
    "#     print('Patient01_Siz/'+file_path.removesuffix('.edf')+'.npy')\n",
    "#     print(loaded_array.shape)\n",
    "    array.append(loaded_array)\n",
    "    \n",
    "result_array = np.concatenate(array, axis=0)"
   ]
  },
  {
   "cell_type": "markdown",
   "id": "e5357261",
   "metadata": {},
   "source": [
    "### PCA"
   ]
  },
  {
   "cell_type": "code",
   "execution_count": 7,
   "id": "232b5e39",
   "metadata": {},
   "outputs": [
    {
     "name": "stdout",
     "output_type": "stream",
     "text": [
      "successful store: Patient02_siz_input.npy\n"
     ]
    }
   ],
   "source": [
    "n_components = 64\n",
    "pca = PCA(n_components=n_components)\n",
    "temp_window_features_t_f_pca = pca.fit_transform(result_array)\n",
    "temp_window_features_t_f_pca_norm = Functions.norm_per_sample(temp_window_features_t_f_pca)\n",
    "\n",
    "np.save('Patient02_siz_input.npy', temp_window_features_t_f_pca_norm)\n",
    "print('successful store:', 'Patient02_siz_input.npy')"
   ]
  },
  {
   "cell_type": "code",
   "execution_count": 8,
   "id": "ea5f0ce1",
   "metadata": {},
   "outputs": [],
   "source": [
    "Functions.concatenate_npy_files(folder_path='Patient02_Int', output_file='Patient02_int_input.npy')"
   ]
  },
  {
   "cell_type": "markdown",
   "id": "d867d70e",
   "metadata": {},
   "source": [
    "# Show images"
   ]
  },
  {
   "cell_type": "code",
   "execution_count": 10,
   "id": "0bc77cf7",
   "metadata": {},
   "outputs": [
    {
     "data": {
      "text/plain": [
       "((148, 64), (3630, 64))"
      ]
     },
     "execution_count": 10,
     "metadata": {},
     "output_type": "execute_result"
    }
   ],
   "source": [
    "np.load('Patient02_siz_input.npy').shape, np.load('Patient02_int_input.npy').shape"
   ]
  },
  {
   "cell_type": "code",
   "execution_count": 11,
   "id": "0eefb2a3",
   "metadata": {
    "scrolled": false
   },
   "outputs": [
    {
     "ename": "NameError",
     "evalue": "name 'plt' is not defined",
     "output_type": "error",
     "traceback": [
      "\u001b[1;31m---------------------------------------------------------------------------\u001b[0m",
      "\u001b[1;31mNameError\u001b[0m                                 Traceback (most recent call last)",
      "Input \u001b[1;32mIn [11]\u001b[0m, in \u001b[0;36m<cell line: 1>\u001b[1;34m()\u001b[0m\n\u001b[1;32m----> 1\u001b[0m \u001b[43mplt\u001b[49m\u001b[38;5;241m.\u001b[39mfigure()\n\u001b[0;32m      2\u001b[0m plt\u001b[38;5;241m.\u001b[39msubplot(\u001b[38;5;241m2\u001b[39m,\u001b[38;5;241m1\u001b[39m,\u001b[38;5;241m1\u001b[39m)\n\u001b[0;32m      3\u001b[0m index \u001b[38;5;241m=\u001b[39m random\u001b[38;5;241m.\u001b[39mrandint(\u001b[38;5;241m0\u001b[39m,\u001b[38;5;241m312\u001b[39m)\n",
      "\u001b[1;31mNameError\u001b[0m: name 'plt' is not defined"
     ]
    }
   ],
   "source": [
    "plt.figure()\n",
    "plt.subplot(2,1,1)\n",
    "index = random.randint(0,312)\n",
    "print('siz:', index)\n",
    "plt.plot(np.load('Patient01_siz_input.npy')[index,:])\n",
    "plt.subplot(2,1,2)\n",
    "index = random.randint(0,3850)\n",
    "print('int:', index)\n",
    "plt.plot(np.load('Patient01_int_input.npy')[index,:])"
   ]
  }
 ],
 "metadata": {
  "kernelspec": {
   "display_name": "Python 3 (ipykernel)",
   "language": "python",
   "name": "python3"
  },
  "language_info": {
   "codemirror_mode": {
    "name": "ipython",
    "version": 3
   },
   "file_extension": ".py",
   "mimetype": "text/x-python",
   "name": "python",
   "nbconvert_exporter": "python",
   "pygments_lexer": "ipython3",
   "version": "3.10.4"
  }
 },
 "nbformat": 4,
 "nbformat_minor": 5
}
