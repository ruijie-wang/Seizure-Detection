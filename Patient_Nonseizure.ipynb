{
 "cells": [
  {
   "cell_type": "code",
   "execution_count": 1,
   "id": "d6f8b450",
   "metadata": {},
   "outputs": [],
   "source": [
    "import os\n",
    "\n",
    "import numpy as np\n",
    "import statistics\n",
    "import pyedflib\n",
    "# import mne\n",
    "import math\n",
    "\n",
    "\n",
    "from sklearn.decomposition import PCA\n",
    "from sklearn.preprocessing import StandardScaler\n",
    "\n",
    "import matplotlib.pyplot as plt\n",
    "\n",
    "from IPython.display import display, Markdown  #display(Markdown(\"# Hello World!\"))\n",
    "import Functions"
   ]
  },
  {
   "cell_type": "code",
   "execution_count": 2,
   "id": "3b6341ac",
   "metadata": {},
   "outputs": [],
   "source": [
    "# %matplotlib notebook            # Interactive website\n",
    "plt.style.use('ggplot')"
   ]
  },
  {
   "cell_type": "markdown",
   "id": "93e7d9f5",
   "metadata": {},
   "source": [
    "## Functions"
   ]
  },
  {
   "cell_type": "markdown",
   "id": "d73b583e",
   "metadata": {},
   "source": [
    "### Read edf file"
   ]
  },
  {
   "cell_type": "code",
   "execution_count": 3,
   "id": "db10d8df",
   "metadata": {},
   "outputs": [],
   "source": [
    "def readedf(path):\n",
    "    f = pyedflib.EdfReader(path)\n",
    "    n = f.signals_in_file\n",
    "    signal_labels = f.getSignalLabels()\n",
    "    sigbufs = np.zeros((n, f.getNSamples()[0]))\n",
    "    for i in np.arange(n):\n",
    "        sigbufs[i,:] = f.readSignal(i)\n",
    "    return sigbufs"
   ]
  },
  {
   "cell_type": "markdown",
   "id": "c65100b4",
   "metadata": {},
   "source": [
    "### Feature Calculate"
   ]
  },
  {
   "cell_type": "code",
   "execution_count": 4,
   "id": "cfa88625",
   "metadata": {},
   "outputs": [],
   "source": [
    "def feat_mean(array):\n",
    "    return np.mean(array)\n",
    "def feat_variance(array):\n",
    "    return np.var(array, axis=0)\n",
    "def feat_skewness(array):\n",
    "    skewness = np.mean((array - np.mean(array))**3) / np.std(array)**3\n",
    "    return skewness\n",
    "def feat_kurtosis(array):\n",
    "    kurtosis = np.mean((array - np.mean(array))**4) / np.std(array)**4\n",
    "    return kurtosis\n",
    "def feat_cov(array):\n",
    "    CoV = (np.std(array)/np.mean(array))\n",
    "    return CoV\n",
    "def feat_mad(array):\n",
    "    median = np.median(array)\n",
    "    abs_deviation = np.abs(array-median)\n",
    "    mad = np.median(abs_deviation)\n",
    "    return mad\n",
    "def feat_rms(array):\n",
    "    rms_amplitude = np.sqrt(np.mean(np.square(array)))\n",
    "    return rms_amplitude\n",
    "def feat_shannon_entropy(sequence):\n",
    "    uniqw, inverse = np.unique(sequence, return_inverse=True)\n",
    "    event_counts = np.bincount(inverse)\n",
    "\n",
    "    # Calculate probabilities\n",
    "    total_events = len(sequence)\n",
    "    event_probabilities = event_counts / total_events\n",
    "\n",
    "    # Calculate Shannon entropy\n",
    "    entropy = -np.sum(event_probabilities * np.log2(event_probabilities))\n",
    "    return entropy\n",
    "# array = (signal)\n",
    "def get_features(array):\n",
    "    all_features = np.zeros((1,8))\n",
    "    all_features[0,0] = feat_mean(array)\n",
    "    all_features[0,1] = feat_variance(array)\n",
    "    all_features[0,2] = feat_skewness(array)\n",
    "    all_features[0,3] = feat_kurtosis(array)\n",
    "    all_features[0,4] = feat_cov(array)\n",
    "    all_features[0,5] = feat_mad(array)\n",
    "    all_features[0,6] = feat_rms(array)\n",
    "    all_features[0,7] = feat_shannon_entropy(array)\n",
    "    return all_features"
   ]
  },
  {
   "cell_type": "markdown",
   "id": "e67f9b15",
   "metadata": {},
   "source": [
    "### Sliding windows"
   ]
  },
  {
   "cell_type": "code",
   "execution_count": 5,
   "id": "8a483adc",
   "metadata": {
    "code_folding": []
   },
   "outputs": [],
   "source": [
    "# the unit of window size and window step is points(second * sample_rate)\n",
    "# array = (signal)\n",
    "def slide_windows(array, window_size, window_step):\n",
    "    array_len = np.size(array)\n",
    "    num_window = math.floor((array_len-window_size)/window_step)\n",
    "    output = np.zeros((num_window, window_size))\n",
    "    for i in range(num_window):\n",
    "        output[i,:] = array[0 + window_step*i:window_size + window_step*i]\n",
    "    return output\n",
    "\n",
    "def channel_slide_windows(array, window_size, window_step): # array's format should be [#channel by #points]\n",
    "    for i in range(np.size(array,axis=0)):\n",
    "        if i == 0:\n",
    "            temp = slide_windows(array = array[0,:], window_size= window_size,\n",
    "                                window_step = window_step)\n",
    "            output = np.zeros((np.size(array,axis=0), temp.shape[0], temp.shape[1]))\n",
    "            output[i,:,:] = temp\n",
    "        else:\n",
    "            output[i,:,:] = slide_windows(array = array[i,:], window_size= window_size,\n",
    "                                    window_step = window_step)\n",
    "    return output # (#channel, #window, signal)"
   ]
  },
  {
   "cell_type": "markdown",
   "id": "758d74a7",
   "metadata": {},
   "source": [
    "### Normalization_per_sample"
   ]
  },
  {
   "cell_type": "code",
   "execution_count": 6,
   "id": "604b91d9",
   "metadata": {},
   "outputs": [],
   "source": [
    "def norm_per_sample(data):\n",
    "    mean_per_sample = np.mean(data,axis=1, keepdims=True)\n",
    "    std_dev_per_sample = np.std(data,axis=1, keepdims=True)\n",
    "    \n",
    "    normalized_data = (data - mean_per_sample) / std_dev_per_sample\n",
    "    return normalized_data"
   ]
  },
  {
   "cell_type": "markdown",
   "id": "bf45cf14",
   "metadata": {},
   "source": [
    "## Read fold files name"
   ]
  },
  {
   "cell_type": "code",
   "execution_count": 7,
   "id": "8fb1f25a",
   "metadata": {},
   "outputs": [],
   "source": [
    "# Read fold files name # patient 01\n",
    "folder_path = \"./Patient01/\"\n",
    "\n",
    "file_list = []\n",
    "\n",
    "for filename in os.listdir(folder_path):                        # Read files name\n",
    "    if os.path.isfile(os.path.join(folder_path, filename)):\n",
    "        file_list.append(filename)\n",
    "\n",
    "seizure_file_list = ['chb01-summary.txt', 'chb01_03.edf','chb01_03.edf.seizures',\n",
    "                    'chb01_04.edf', 'chb01_04.edf.seizures', 'chb01_15.edf', 'chb01_15.edf.seizures',\n",
    "                    'chb01_16.edf', 'chb01_16.edf.seizures','chb01_18.edf', 'chb01_18.edf.seizures',\n",
    "                    'chb01_21.edf', 'chb01_21.edf.seizures', 'chb01_26.edf', 'chb01_26.edf.seizures']\n",
    "\n",
    "final = []\n",
    "for item in file_list:\n",
    "    if item not in seizure_file_list:\n",
    "        final.append(item)\n",
    "        \n",
    "patient_index = final\n",
    "del final, seizure_file_list, file_list, filename"
   ]
  },
  {
   "cell_type": "code",
   "execution_count": 10,
   "id": "0b6982dd",
   "metadata": {},
   "outputs": [],
   "source": [
    "# Read fold files name   # patient 07\n",
    "folder_path = \"./Patient07/\"\n",
    "\n",
    "file_list = []\n",
    "\n",
    "for filename in os.listdir(folder_path):                        # Read files name\n",
    "    if os.path.isfile(os.path.join(folder_path, filename)):\n",
    "        file_list.append(filename)\n",
    "\n",
    "seizure_file_list = ['chb07-summary.txt', 'chb07_12.edf','chb07_12.edf.seizures',\n",
    "                    'chb07_13.edf', 'chb07_13.edf.seizures', 'chb07_19.edf', 'chb07_19.edf.seizures']\n",
    "\n",
    "final = []\n",
    "for item in file_list:\n",
    "    if item not in seizure_file_list:\n",
    "        final.append(item)\n",
    "        \n",
    "patient_index = final\n",
    "del final, seizure_file_list, file_list, filename"
   ]
  },
  {
   "cell_type": "code",
   "execution_count": 7,
   "id": "10101555",
   "metadata": {},
   "outputs": [],
   "source": [
    "# Read fold files name  # patient 02\n",
    "folder_path = \"./Patient02/\"\n",
    "\n",
    "file_list = []\n",
    "\n",
    "for filename in os.listdir(folder_path):                        # Read files name\n",
    "    if os.path.isfile(os.path.join(folder_path, filename)):\n",
    "        file_list.append(filename)\n",
    "\n",
    "seizure_file_list = ['chb02-summary.txt', 'chb02_16.edf','chb02_16.edf.seizures',\n",
    "                    'chb02_16+.edf', 'chb02_16+.edf.seizures', 'chb02_19.edf', 'chb02_19.edf.seizures']\n",
    "\n",
    "final = []\n",
    "for item in file_list:\n",
    "    if item not in seizure_file_list:\n",
    "        final.append(item)\n",
    "        \n",
    "patient_index = final\n",
    "del final, seizure_file_list, file_list, filename"
   ]
  },
  {
   "cell_type": "markdown",
   "id": "31b3e84c",
   "metadata": {},
   "source": [
    "## Read files & Features & PCA & Save"
   ]
  },
  {
   "cell_type": "code",
   "execution_count": 8,
   "id": "6873e36f",
   "metadata": {},
   "outputs": [
    {
     "name": "stdout",
     "output_type": "stream",
     "text": [
      "successful read file chb02_01.edf\n",
      "successful store: chb02_01.npy\n",
      "successful read file chb02_02.edf\n",
      "successful store: chb02_02.npy\n",
      "successful read file chb02_03.edf\n",
      "successful store: chb02_03.npy\n",
      "successful read file chb02_04.edf\n",
      "successful store: chb02_04.npy\n",
      "successful read file chb02_05.edf\n",
      "successful store: chb02_05.npy\n",
      "successful read file chb02_06.edf\n",
      "successful store: chb02_06.npy\n",
      "successful read file chb02_07.edf\n",
      "successful store: chb02_07.npy\n",
      "successful read file chb02_08.edf\n",
      "successful store: chb02_08.npy\n",
      "successful read file chb02_09.edf\n",
      "successful store: chb02_09.npy\n",
      "successful read file chb02_10.edf\n",
      "successful store: chb02_10.npy\n",
      "successful read file chb02_11.edf\n",
      "successful store: chb02_11.npy\n",
      "successful read file chb02_12.edf\n",
      "successful store: chb02_12.npy\n",
      "successful read file chb02_13.edf\n",
      "successful store: chb02_13.npy\n",
      "successful read file chb02_14.edf\n",
      "successful store: chb02_14.npy\n",
      "successful read file chb02_15.edf\n",
      "successful store: chb02_15.npy\n",
      "successful read file chb02_17.edf\n",
      "successful store: chb02_17.npy\n",
      "successful read file chb02_18.edf\n",
      "successful store: chb02_18.npy\n",
      "successful read file chb02_20.edf\n",
      "successful store: chb02_20.npy\n",
      "successful read file chb02_21.edf\n",
      "successful store: chb02_21.npy\n",
      "successful read file chb02_22.edf\n",
      "successful store: chb02_22.npy\n",
      "successful read file chb02_23.edf\n",
      "successful store: chb02_23.npy\n",
      "successful read file chb02_24.edf\n",
      "successful store: chb02_24.npy\n",
      "successful read file chb02_25.edf\n",
      "successful store: chb02_25.npy\n",
      "successful read file chb02_26.edf\n",
      "successful store: chb02_26.npy\n",
      "successful read file chb02_27.edf\n",
      "successful store: chb02_27.npy\n",
      "successful read file chb02_28.edf\n",
      "successful store: chb02_28.npy\n",
      "successful read file chb02_29.edf\n",
      "successful store: chb02_29.npy\n",
      "successful read file chb02_30.edf\n",
      "successful store: chb02_30.npy\n",
      "successful read file chb02_31.edf\n",
      "successful store: chb02_31.npy\n",
      "successful read file chb02_32.edf\n",
      "successful store: chb02_32.npy\n",
      "successful read file chb02_33.edf\n",
      "successful store: chb02_33.npy\n",
      "successful read file chb02_34.edf\n",
      "successful store: chb02_34.npy\n",
      "successful read file chb02_35.edf\n",
      "successful store: chb02_35.npy\n"
     ]
    }
   ],
   "source": [
    "# Define parameters\n",
    "sample_rate = 256\n",
    "    \n",
    "for i in range(len(patient_index)):\n",
    "    temp = readedf(folder_path+patient_index[i])\n",
    "    print('successful read file', patient_index[i])\n",
    "    \n",
    "    temp_window = channel_slide_windows(temp,     # Intercept temp into window format\n",
    "                     window_size=64*sample_rate, \n",
    "                      window_step=32*sample_rate)\n",
    "    \n",
    "    temp_window_features = np.zeros((np.size(temp_window,axis=0),       # Initiate window features\n",
    "                                     np.size(temp_window,axis=1),\n",
    "                                     8))\n",
    "    \n",
    "    for j in range(np.size(temp_window,axis=0)):                 # Calculate each window's features\n",
    "        for k in range(np.size(temp_window, axis=1)):\n",
    "           temp_window_features[j,k,:] = get_features(temp_window[j,k,:])\n",
    "    \n",
    "    temp_window_features_t = np.transpose(temp_window_features,[1,0,2])   # transpose matrix\n",
    "    temp_window_features_t_f = temp_window_features_t.reshape(np.size(temp_window_features_t,axis=0), # reshape matrix (# sample, # features)\n",
    "                                                              np.size(temp_window_features_t,axis=1)*\\\n",
    "                                                              np.size(temp_window_features_t,axis=2))\n",
    "    \n",
    "    n_components = 64\n",
    "    pca = PCA(n_components=n_components)\n",
    "    temp_window_features_t_f_pca = pca.fit_transform(temp_window_features_t_f)\n",
    "    temp_window_features_t_f_pca_norm = norm_per_sample(temp_window_features_t_f_pca)\n",
    "    \n",
    "    np.save(patient_index[i].removesuffix('.edf')+'.npy', temp_window_features_t_f_pca_norm)\n",
    "    print('successful store:', patient_index[i].removesuffix('.edf')+'.npy')"
   ]
  }
 ],
 "metadata": {
  "kernelspec": {
   "display_name": "Python 3 (ipykernel)",
   "language": "python",
   "name": "python3"
  },
  "language_info": {
   "codemirror_mode": {
    "name": "ipython",
    "version": 3
   },
   "file_extension": ".py",
   "mimetype": "text/x-python",
   "name": "python",
   "nbconvert_exporter": "python",
   "pygments_lexer": "ipython3",
   "version": "3.10.4"
  }
 },
 "nbformat": 4,
 "nbformat_minor": 5
}
